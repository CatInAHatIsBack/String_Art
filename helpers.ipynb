{
 "cells": [
  {
   "cell_type": "code",
   "execution_count": 1,
   "metadata": {},
   "outputs": [
    {
     "name": "stdout",
     "output_type": "stream",
     "text": [
      "[(0, 291, 'left', 9, 291), (291, 178, 'left', 113, 187), (178, 290, 'right', 188, 112)]\n",
      "['left', 'left', 'right']\n"
     ]
    }
   ],
   "source": [
    "points = [\n",
    "    (1, 2), (2, 1), (1, 299), (299, 1), (0, 291), (291, 178), (178, 290), (290, 175), (175, 288),\n",
    "    (288, 171), (171, 284), (284, 166), (166, 283), (283, 167),\n",
    "    (167, 282), (282, 165), (165, 285), (285, 166), (166, 287),\n",
    "    (287, 165)\n",
    "]\n",
    "total_nails = 300  # From 0 to 299\n",
    "\n",
    "closest_directions_updated = []\n",
    "x = []\n",
    "\n",
    "for left_value, right_value in points:\n",
    "    # Calculate the distance going left\n",
    "    if left_value >= right_value:\n",
    "        distance_left = left_value - right_value\n",
    "    else:\n",
    "        distance_left = left_value + (total_nails - right_value)\n",
    "\n",
    "    # Calculate the distance going right\n",
    "    if right_value >= left_value:\n",
    "        distance_right = right_value - left_value\n",
    "    else:\n",
    "        distance_right = (total_nails - left_value) + right_value\n",
    "\n",
    "    # Determine the closest direction\n",
    "    closest_direction = \"left\" if distance_left < distance_right else \"right\"\n",
    "    x.append(closest_direction)\n",
    "    closest_directions_updated.append((left_value, right_value, closest_direction, distance_left, distance_right))\n",
    "\n",
    "print(closest_directions_updated)\n",
    "print(x)"
   ]
  }
 ],
 "metadata": {
  "kernelspec": {
   "display_name": "env",
   "language": "python",
   "name": "python3"
  },
  "language_info": {
   "codemirror_mode": {
    "name": "ipython",
    "version": 3
   },
   "file_extension": ".py",
   "mimetype": "text/x-python",
   "name": "python",
   "nbconvert_exporter": "python",
   "pygments_lexer": "ipython3",
   "version": "3.11.7"
  }
 },
 "nbformat": 4,
 "nbformat_minor": 2
}

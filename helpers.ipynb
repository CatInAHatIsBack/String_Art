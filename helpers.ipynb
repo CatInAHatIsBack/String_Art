{
 "cells": [
  {
   "cell_type": "code",
   "execution_count": 5,
   "metadata": {},
   "outputs": [
    {
     "name": "stdout",
     "output_type": "stream",
     "text": [
      "[(1, 2, 'right', 299, 1), (2, 1, 'left', 1, 299), (1, 299, 'left', 2, 298), (299, 1, 'right', 298, 2), (0, 291, 'left', 9, 291), (291, 178, 'left', 113, 187), (178, 290, 'right', 188, 112), (290, 175, 'left', 115, 185), (175, 288, 'right', 187, 113), (288, 171, 'left', 117, 183), (171, 284, 'right', 187, 113), (284, 166, 'left', 118, 182), (166, 283, 'right', 183, 117), (283, 167, 'left', 116, 184), (167, 282, 'right', 185, 115), (282, 165, 'left', 117, 183), (165, 285, 'right', 180, 120), (285, 166, 'left', 119, 181), (166, 287, 'right', 179, 121), (287, 165, 'left', 122, 178)]\n",
      "['right', 'left', 'left', 'right', 'left', 'left', 'right', 'left', 'right', 'left', 'right', 'left', 'right', 'left', 'right', 'left', 'right', 'left', 'right', 'left']\n"
     ]
    }
   ],
   "source": [
    "points = [\n",
    "    (1, 2), (2, 1), (1, 299), (299, 1), (0, 291), (291, 178), (178, 290), (290, 175), (175, 288),\n",
    "    (288, 171), (171, 284), (284, 166), (166, 283), (283, 167),\n",
    "    (167, 282), (282, 165), (165, 285), (285, 166), (166, 287),\n",
    "    (287, 165)\n",
    "]\n",
    "total_nails = 300  # From 0 to 299\n",
    "\n",
    "closest_directions_updated = []\n",
    "x = []\n",
    "\n",
    "for left_value, right_value in points:\n",
    "    # Calculate the distance going left\n",
    "    if left_value >= right_value:\n",
    "        distance_left = left_value - right_value\n",
    "    else:\n",
    "        distance_left = left_value + (total_nails - right_value)\n",
    "\n",
    "    # Calculate the distance going right\n",
    "    if right_value >= left_value:\n",
    "        distance_right = right_value - left_value\n",
    "    else:\n",
    "        distance_right = (total_nails - left_value) + right_value\n",
    "\n",
    "    # Determine the closest direction\n",
    "    closest_direction = \"left\" if distance_left < distance_right else \"right\"\n",
    "    x.append(closest_direction)\n",
    "    closest_directions_updated.append((left_value, right_value, closest_direction, distance_left, distance_right))\n",
    "\n",
    "print(closest_directions_updated)\n",
    "print(x)"
   ]
  }
 ],
 "metadata": {
  "kernelspec": {
   "display_name": "env",
   "language": "python",
   "name": "python3"
  },
  "language_info": {
   "codemirror_mode": {
    "name": "ipython",
    "version": 3
   },
   "file_extension": ".py",
   "mimetype": "text/x-python",
   "name": "python",
   "nbconvert_exporter": "python",
   "pygments_lexer": "ipython3",
   "version": "3.11.6"
  }
 },
 "nbformat": 4,
 "nbformat_minor": 2
}
